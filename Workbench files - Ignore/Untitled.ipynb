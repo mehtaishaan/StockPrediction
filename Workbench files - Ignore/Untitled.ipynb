{
 "cells": [
  {
   "cell_type": "code",
   "execution_count": 1,
   "metadata": {},
   "outputs": [
    {
     "name": "stderr",
     "output_type": "stream",
     "text": [
      "--2021-04-08 22:56:51--  https://raw.githubusercontent.com/huseinzol05/Stock-Prediction-Models/master/deep-learning/how-to-forecast.ipynb\n",
      "Resolving raw.githubusercontent.com (raw.githubusercontent.com)... 185.199.108.133, 185.199.109.133, 185.199.110.133, ...\n",
      "Connecting to raw.githubusercontent.com (raw.githubusercontent.com)|185.199.108.133|:443... connected.\n",
      "WARNING: cannot verify raw.githubusercontent.com's certificate, issued by 'CN=DigiCert SHA2 High Assurance Server CA,OU=www.digicert.com,O=DigiCert Inc,C=US':\n",
      "  Unable to locally verify the issuer's authority.\n",
      "HTTP request sent, awaiting response... 200 OK\n",
      "Length: 104605 (102K) [text/plain]\n",
      "Saving to: 'how-to-forecast.ipynb'\n",
      "\n",
      "     0K .......... .......... .......... .......... .......... 48%  756K 0s\n",
      "    50K .......... .......... .......... .......... .......... 97% 1.09M 0s\n",
      "   100K ..                                                    100%  734K=0.1s\n",
      "\n",
      "2021-04-08 22:56:52 (897 KB/s) - 'how-to-forecast.ipynb' saved [104605/104605]\n",
      "\n"
     ]
    }
   ],
   "source": [
    "!wget --no-check-certificate https://raw.githubusercontent.com/huseinzol05/Stock-Prediction-Models/master/deep-learning/how-to-forecast.ipynb"
   ]
  },
  {
   "cell_type": "code",
   "execution_count": null,
   "metadata": {},
   "outputs": [],
   "source": []
  }
 ],
 "metadata": {
  "kernelspec": {
   "display_name": "Python 3",
   "language": "python",
   "name": "python3"
  },
  "language_info": {
   "codemirror_mode": {
    "name": "ipython",
    "version": 3
   },
   "file_extension": ".py",
   "mimetype": "text/x-python",
   "name": "python",
   "nbconvert_exporter": "python",
   "pygments_lexer": "ipython3",
   "version": "3.7.6"
  }
 },
 "nbformat": 4,
 "nbformat_minor": 4
}
